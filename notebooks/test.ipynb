{
 "cells": [
  {
   "cell_type": "code",
   "execution_count": 1,
   "id": "85a5f722",
   "metadata": {},
   "outputs": [
    {
     "data": {
      "text/html": [
       "<div>\n",
       "<style scoped>\n",
       "    .dataframe tbody tr th:only-of-type {\n",
       "        vertical-align: middle;\n",
       "    }\n",
       "\n",
       "    .dataframe tbody tr th {\n",
       "        vertical-align: top;\n",
       "    }\n",
       "\n",
       "    .dataframe thead th {\n",
       "        text-align: right;\n",
       "    }\n",
       "</style>\n",
       "<table border=\"1\" class=\"dataframe\">\n",
       "  <thead>\n",
       "    <tr style=\"text-align: right;\">\n",
       "      <th></th>\n",
       "      <th>id</th>\n",
       "      <th>url</th>\n",
       "      <th>region</th>\n",
       "      <th>region_url</th>\n",
       "      <th>price</th>\n",
       "      <th>year</th>\n",
       "      <th>manufacturer</th>\n",
       "      <th>model</th>\n",
       "      <th>condition</th>\n",
       "      <th>cylinders</th>\n",
       "      <th>...</th>\n",
       "      <th>size</th>\n",
       "      <th>type</th>\n",
       "      <th>paint_color</th>\n",
       "      <th>image_url</th>\n",
       "      <th>description</th>\n",
       "      <th>county</th>\n",
       "      <th>state</th>\n",
       "      <th>lat</th>\n",
       "      <th>long</th>\n",
       "      <th>posting_date</th>\n",
       "    </tr>\n",
       "  </thead>\n",
       "  <tbody>\n",
       "    <tr>\n",
       "      <th>0</th>\n",
       "      <td>7222695916</td>\n",
       "      <td>https://prescott.craigslist.org/cto/d/prescott...</td>\n",
       "      <td>prescott</td>\n",
       "      <td>https://prescott.craigslist.org</td>\n",
       "      <td>6000</td>\n",
       "      <td>NaN</td>\n",
       "      <td>NaN</td>\n",
       "      <td>NaN</td>\n",
       "      <td>NaN</td>\n",
       "      <td>NaN</td>\n",
       "      <td>...</td>\n",
       "      <td>NaN</td>\n",
       "      <td>NaN</td>\n",
       "      <td>NaN</td>\n",
       "      <td>NaN</td>\n",
       "      <td>NaN</td>\n",
       "      <td>NaN</td>\n",
       "      <td>az</td>\n",
       "      <td>NaN</td>\n",
       "      <td>NaN</td>\n",
       "      <td>NaN</td>\n",
       "    </tr>\n",
       "    <tr>\n",
       "      <th>1</th>\n",
       "      <td>7218891961</td>\n",
       "      <td>https://fayar.craigslist.org/ctd/d/bentonville...</td>\n",
       "      <td>fayetteville</td>\n",
       "      <td>https://fayar.craigslist.org</td>\n",
       "      <td>11900</td>\n",
       "      <td>NaN</td>\n",
       "      <td>NaN</td>\n",
       "      <td>NaN</td>\n",
       "      <td>NaN</td>\n",
       "      <td>NaN</td>\n",
       "      <td>...</td>\n",
       "      <td>NaN</td>\n",
       "      <td>NaN</td>\n",
       "      <td>NaN</td>\n",
       "      <td>NaN</td>\n",
       "      <td>NaN</td>\n",
       "      <td>NaN</td>\n",
       "      <td>ar</td>\n",
       "      <td>NaN</td>\n",
       "      <td>NaN</td>\n",
       "      <td>NaN</td>\n",
       "    </tr>\n",
       "    <tr>\n",
       "      <th>2</th>\n",
       "      <td>7221797935</td>\n",
       "      <td>https://keys.craigslist.org/cto/d/summerland-k...</td>\n",
       "      <td>florida keys</td>\n",
       "      <td>https://keys.craigslist.org</td>\n",
       "      <td>21000</td>\n",
       "      <td>NaN</td>\n",
       "      <td>NaN</td>\n",
       "      <td>NaN</td>\n",
       "      <td>NaN</td>\n",
       "      <td>NaN</td>\n",
       "      <td>...</td>\n",
       "      <td>NaN</td>\n",
       "      <td>NaN</td>\n",
       "      <td>NaN</td>\n",
       "      <td>NaN</td>\n",
       "      <td>NaN</td>\n",
       "      <td>NaN</td>\n",
       "      <td>fl</td>\n",
       "      <td>NaN</td>\n",
       "      <td>NaN</td>\n",
       "      <td>NaN</td>\n",
       "    </tr>\n",
       "    <tr>\n",
       "      <th>3</th>\n",
       "      <td>7222270760</td>\n",
       "      <td>https://worcester.craigslist.org/cto/d/west-br...</td>\n",
       "      <td>worcester / central MA</td>\n",
       "      <td>https://worcester.craigslist.org</td>\n",
       "      <td>1500</td>\n",
       "      <td>NaN</td>\n",
       "      <td>NaN</td>\n",
       "      <td>NaN</td>\n",
       "      <td>NaN</td>\n",
       "      <td>NaN</td>\n",
       "      <td>...</td>\n",
       "      <td>NaN</td>\n",
       "      <td>NaN</td>\n",
       "      <td>NaN</td>\n",
       "      <td>NaN</td>\n",
       "      <td>NaN</td>\n",
       "      <td>NaN</td>\n",
       "      <td>ma</td>\n",
       "      <td>NaN</td>\n",
       "      <td>NaN</td>\n",
       "      <td>NaN</td>\n",
       "    </tr>\n",
       "    <tr>\n",
       "      <th>4</th>\n",
       "      <td>7210384030</td>\n",
       "      <td>https://greensboro.craigslist.org/cto/d/trinit...</td>\n",
       "      <td>greensboro</td>\n",
       "      <td>https://greensboro.craigslist.org</td>\n",
       "      <td>4900</td>\n",
       "      <td>NaN</td>\n",
       "      <td>NaN</td>\n",
       "      <td>NaN</td>\n",
       "      <td>NaN</td>\n",
       "      <td>NaN</td>\n",
       "      <td>...</td>\n",
       "      <td>NaN</td>\n",
       "      <td>NaN</td>\n",
       "      <td>NaN</td>\n",
       "      <td>NaN</td>\n",
       "      <td>NaN</td>\n",
       "      <td>NaN</td>\n",
       "      <td>nc</td>\n",
       "      <td>NaN</td>\n",
       "      <td>NaN</td>\n",
       "      <td>NaN</td>\n",
       "    </tr>\n",
       "  </tbody>\n",
       "</table>\n",
       "<p>5 rows × 26 columns</p>\n",
       "</div>"
      ],
      "text/plain": [
       "           id                                                url  \\\n",
       "0  7222695916  https://prescott.craigslist.org/cto/d/prescott...   \n",
       "1  7218891961  https://fayar.craigslist.org/ctd/d/bentonville...   \n",
       "2  7221797935  https://keys.craigslist.org/cto/d/summerland-k...   \n",
       "3  7222270760  https://worcester.craigslist.org/cto/d/west-br...   \n",
       "4  7210384030  https://greensboro.craigslist.org/cto/d/trinit...   \n",
       "\n",
       "                   region                         region_url  price  year  \\\n",
       "0                prescott    https://prescott.craigslist.org   6000   NaN   \n",
       "1            fayetteville       https://fayar.craigslist.org  11900   NaN   \n",
       "2            florida keys        https://keys.craigslist.org  21000   NaN   \n",
       "3  worcester / central MA   https://worcester.craigslist.org   1500   NaN   \n",
       "4              greensboro  https://greensboro.craigslist.org   4900   NaN   \n",
       "\n",
       "  manufacturer model condition cylinders  ... size  type paint_color  \\\n",
       "0          NaN   NaN       NaN       NaN  ...  NaN   NaN         NaN   \n",
       "1          NaN   NaN       NaN       NaN  ...  NaN   NaN         NaN   \n",
       "2          NaN   NaN       NaN       NaN  ...  NaN   NaN         NaN   \n",
       "3          NaN   NaN       NaN       NaN  ...  NaN   NaN         NaN   \n",
       "4          NaN   NaN       NaN       NaN  ...  NaN   NaN         NaN   \n",
       "\n",
       "  image_url description county state lat long posting_date  \n",
       "0       NaN         NaN    NaN    az NaN  NaN          NaN  \n",
       "1       NaN         NaN    NaN    ar NaN  NaN          NaN  \n",
       "2       NaN         NaN    NaN    fl NaN  NaN          NaN  \n",
       "3       NaN         NaN    NaN    ma NaN  NaN          NaN  \n",
       "4       NaN         NaN    NaN    nc NaN  NaN          NaN  \n",
       "\n",
       "[5 rows x 26 columns]"
      ]
     },
     "execution_count": 1,
     "metadata": {},
     "output_type": "execute_result"
    }
   ],
   "source": [
    "\n",
    "import pandas as pd\n",
    "import matplotlib.pyplot as plt\n",
    "import seaborn as sns\n",
    "\n",
    "# Set up visualization style\n",
    "sns.set(style=\"whitegrid\")\n",
    "\n",
    "# Load dataset\n",
    "df2 = pd.read_csv('../airflow/data/vehicles.csv')\n",
    "\n",
    "# Basic preview\n",
    "df2.head()\n"
   ]
  },
  {
   "cell_type": "code",
   "execution_count": 2,
   "id": "8c2d509c",
   "metadata": {},
   "outputs": [],
   "source": [
    "df = df2.copy()"
   ]
  },
  {
   "cell_type": "code",
   "execution_count": 3,
   "id": "fd35b2f8",
   "metadata": {},
   "outputs": [
    {
     "name": "stdout",
     "output_type": "stream",
     "text": [
      "<class 'pandas.core.frame.DataFrame'>\n",
      "RangeIndex: 426880 entries, 0 to 426879\n",
      "Data columns (total 26 columns):\n",
      " #   Column        Non-Null Count   Dtype  \n",
      "---  ------        --------------   -----  \n",
      " 0   id            426880 non-null  int64  \n",
      " 1   url           426880 non-null  object \n",
      " 2   region        426880 non-null  object \n",
      " 3   region_url    426880 non-null  object \n",
      " 4   price         426880 non-null  int64  \n",
      " 5   year          425675 non-null  float64\n",
      " 6   manufacturer  409234 non-null  object \n",
      " 7   model         421603 non-null  object \n",
      " 8   condition     252776 non-null  object \n",
      " 9   cylinders     249202 non-null  object \n",
      " 10  fuel          423867 non-null  object \n",
      " 11  odometer      422480 non-null  float64\n",
      " 12  title_status  418638 non-null  object \n",
      " 13  transmission  424324 non-null  object \n",
      " 14  VIN           265838 non-null  object \n",
      " 15  drive         296313 non-null  object \n",
      " 16  size          120519 non-null  object \n",
      " 17  type          334022 non-null  object \n",
      " 18  paint_color   296677 non-null  object \n",
      " 19  image_url     426812 non-null  object \n",
      " 20  description   426810 non-null  object \n",
      " 21  county        0 non-null       float64\n",
      " 22  state         426880 non-null  object \n",
      " 23  lat           420331 non-null  float64\n",
      " 24  long          420331 non-null  float64\n",
      " 25  posting_date  426812 non-null  object \n",
      "dtypes: float64(5), int64(2), object(19)\n",
      "memory usage: 84.7+ MB\n",
      "None\n",
      "                  id                                                url  \\\n",
      "count   4.268800e+05                                             426880   \n",
      "unique           NaN                                             426880   \n",
      "top              NaN  https://wyoming.craigslist.org/ctd/d/atlanta-2...   \n",
      "freq             NaN                                                  1   \n",
      "mean    7.311487e+09                                                NaN   \n",
      "std     4.473170e+06                                                NaN   \n",
      "min     7.207408e+09                                                NaN   \n",
      "25%     7.308143e+09                                                NaN   \n",
      "50%     7.312621e+09                                                NaN   \n",
      "75%     7.315254e+09                                                NaN   \n",
      "max     7.317101e+09                                                NaN   \n",
      "\n",
      "          region                      region_url         price           year  \\\n",
      "count     426880                          426880  4.268800e+05  425675.000000   \n",
      "unique       404                             413           NaN            NaN   \n",
      "top     columbus  https://spokane.craigslist.org           NaN            NaN   \n",
      "freq        3608                            2988           NaN            NaN   \n",
      "mean         NaN                             NaN  7.519903e+04    2011.235191   \n",
      "std          NaN                             NaN  1.218228e+07       9.452120   \n",
      "min          NaN                             NaN  0.000000e+00    1900.000000   \n",
      "25%          NaN                             NaN  5.900000e+03    2008.000000   \n",
      "50%          NaN                             NaN  1.395000e+04    2013.000000   \n",
      "75%          NaN                             NaN  2.648575e+04    2017.000000   \n",
      "max          NaN                             NaN  3.736929e+09    2022.000000   \n",
      "\n",
      "       manufacturer   model condition    cylinders  ...       size    type  \\\n",
      "count        409234  421603    252776       249202  ...     120519  334022   \n",
      "unique           42   29667         6            8  ...          4      13   \n",
      "top            ford   f-150      good  6 cylinders  ...  full-size   sedan   \n",
      "freq          70985    8009    121456        94169  ...      63465   87056   \n",
      "mean            NaN     NaN       NaN          NaN  ...        NaN     NaN   \n",
      "std             NaN     NaN       NaN          NaN  ...        NaN     NaN   \n",
      "min             NaN     NaN       NaN          NaN  ...        NaN     NaN   \n",
      "25%             NaN     NaN       NaN          NaN  ...        NaN     NaN   \n",
      "50%             NaN     NaN       NaN          NaN  ...        NaN     NaN   \n",
      "75%             NaN     NaN       NaN          NaN  ...        NaN     NaN   \n",
      "max             NaN     NaN       NaN          NaN  ...        NaN     NaN   \n",
      "\n",
      "       paint_color                                          image_url  \\\n",
      "count       296677                                             426812   \n",
      "unique          12                                             241899   \n",
      "top          white  https://images.craigslist.org/00N0N_1xMPvfxRAI...   \n",
      "freq         79285                                               7357   \n",
      "mean           NaN                                                NaN   \n",
      "std            NaN                                                NaN   \n",
      "min            NaN                                                NaN   \n",
      "25%            NaN                                                NaN   \n",
      "50%            NaN                                                NaN   \n",
      "75%            NaN                                                NaN   \n",
      "max            NaN                                                NaN   \n",
      "\n",
      "                                              description county   state  \\\n",
      "count                                              426810    0.0  426880   \n",
      "unique                                             360911    NaN      51   \n",
      "top     35 VEHICLES PRICED UNDER $3000!!!  BIG TIME! T...    NaN      ca   \n",
      "freq                                                  231    NaN   50614   \n",
      "mean                                                  NaN    NaN     NaN   \n",
      "std                                                   NaN    NaN     NaN   \n",
      "min                                                   NaN    NaN     NaN   \n",
      "25%                                                   NaN    NaN     NaN   \n",
      "50%                                                   NaN    NaN     NaN   \n",
      "75%                                                   NaN    NaN     NaN   \n",
      "max                                                   NaN    NaN     NaN   \n",
      "\n",
      "                  lat           long              posting_date  \n",
      "count   420331.000000  420331.000000                    426812  \n",
      "unique            NaN            NaN                    381536  \n",
      "top               NaN            NaN  2021-04-23T22:13:05-0400  \n",
      "freq              NaN            NaN                        12  \n",
      "mean        38.493940     -94.748599                       NaN  \n",
      "std          5.841533      18.365462                       NaN  \n",
      "min        -84.122245    -159.827728                       NaN  \n",
      "25%         34.601900    -111.939847                       NaN  \n",
      "50%         39.150100     -88.432600                       NaN  \n",
      "75%         42.398900     -80.832039                       NaN  \n",
      "max         82.390818     173.885502                       NaN  \n",
      "\n",
      "[11 rows x 26 columns]\n"
     ]
    }
   ],
   "source": [
    "\n",
    "# Dataset info and summary\n",
    "print(df.info())\n",
    "print(df.describe(include='all'))\n"
   ]
  },
  {
   "cell_type": "code",
   "execution_count": 4,
   "id": "a9357567",
   "metadata": {},
   "outputs": [
    {
     "data": {
      "text/plain": [
       "county          426880\n",
       "size            306361\n",
       "cylinders       177678\n",
       "condition       174104\n",
       "VIN             161042\n",
       "drive           130567\n",
       "paint_color     130203\n",
       "type             92858\n",
       "manufacturer     17646\n",
       "title_status      8242\n",
       "lat               6549\n",
       "long              6549\n",
       "model             5277\n",
       "odometer          4400\n",
       "fuel              3013\n",
       "transmission      2556\n",
       "year              1205\n",
       "description         70\n",
       "posting_date        68\n",
       "image_url           68\n",
       "region_url           0\n",
       "url                  0\n",
       "id                   0\n",
       "region               0\n",
       "price                0\n",
       "state                0\n",
       "dtype: int64"
      ]
     },
     "execution_count": 4,
     "metadata": {},
     "output_type": "execute_result"
    }
   ],
   "source": [
    "\n",
    "# Check for missing values\n",
    "df.isnull().sum().sort_values(ascending=False)\n"
   ]
  },
  {
   "cell_type": "code",
   "execution_count": 5,
   "id": "508160e4",
   "metadata": {},
   "outputs": [
    {
     "name": "stdout",
     "output_type": "stream",
     "text": [
      "Dropped initial columns. Shape: (426880, 15)\n"
     ]
    }
   ],
   "source": [
    "drop_cols = ['id', 'url', 'region_url', 'image_url', 'description',\n",
    "                 'posting_date', 'VIN', 'lat', 'long', 'county', 'size']\n",
    "df.drop(columns=[col for col in drop_cols if col in df.columns], errors='ignore', inplace= True)\n",
    "print(f\"Dropped initial columns. Shape: {df.shape}\")\n"
   ]
  },
  {
   "cell_type": "code",
   "execution_count": 6,
   "id": "1a8719de",
   "metadata": {},
   "outputs": [
    {
     "data": {
      "text/plain": [
       "cylinders       177678\n",
       "condition       174104\n",
       "drive           130567\n",
       "paint_color     130203\n",
       "type             92858\n",
       "manufacturer     17646\n",
       "title_status      8242\n",
       "model             5277\n",
       "odometer          4400\n",
       "fuel              3013\n",
       "transmission      2556\n",
       "year              1205\n",
       "price                0\n",
       "region               0\n",
       "state                0\n",
       "dtype: int64"
      ]
     },
     "execution_count": 6,
     "metadata": {},
     "output_type": "execute_result"
    }
   ],
   "source": [
    "df.isnull().sum().sort_values(ascending=False)\n"
   ]
  },
  {
   "cell_type": "markdown",
   "id": "cdd9a0ad",
   "metadata": {},
   "source": [
    "## Drop Rows Least Null "
   ]
  },
  {
   "cell_type": "code",
   "execution_count": 7,
   "id": "ea15ff8e",
   "metadata": {},
   "outputs": [
    {
     "name": "stdout",
     "output_type": "stream",
     "text": [
      "Dropped 26997 rows with NaNs in key columns.\n",
      "Shape after NaN row drop: (399883, 15)\n"
     ]
    }
   ],
   "source": [
    "initial_rows = df.shape[0]\n",
    "cols_to_check_nan = ['year', 'odometer', 'manufacturer', 'model']\n",
    "cols_to_check_nan = [col for col in cols_to_check_nan if col in df.columns] # Ensure cols exist\n",
    "df.dropna(subset=cols_to_check_nan, inplace=True)\n",
    "rows_after_drop = df.shape[0]\n",
    "print(f\"Dropped {initial_rows - rows_after_drop} rows with NaNs in key columns.\")\n",
    "print(f\"Shape after NaN row drop: {df.shape}\")"
   ]
  },
  {
   "cell_type": "code",
   "execution_count": 8,
   "id": "58cb75b3",
   "metadata": {},
   "outputs": [
    {
     "data": {
      "text/plain": [
       "cylinders       164298\n",
       "condition       162083\n",
       "drive           119566\n",
       "paint_color     119318\n",
       "type             83236\n",
       "title_status      7173\n",
       "fuel              2009\n",
       "transmission      1608\n",
       "manufacturer         0\n",
       "price                0\n",
       "year                 0\n",
       "region               0\n",
       "model                0\n",
       "odometer             0\n",
       "state                0\n",
       "dtype: int64"
      ]
     },
     "execution_count": 8,
     "metadata": {},
     "output_type": "execute_result"
    }
   ],
   "source": [
    "df.isnull().sum().sort_values(ascending=False)\n"
   ]
  },
  {
   "cell_type": "markdown",
   "id": "6f6edaff",
   "metadata": {},
   "source": [
    "## assign unknown"
   ]
  },
  {
   "cell_type": "code",
   "execution_count": 9,
   "id": "c4126fe0",
   "metadata": {},
   "outputs": [],
   "source": [
    "for col in ['cylinders', 'condition', 'drive', 'paint_color', 'type', 'fuel', 'transmission', 'title_status']:\n",
    "    df[col] = df[col].fillna('unknown')"
   ]
  },
  {
   "cell_type": "markdown",
   "id": "7d7e702f",
   "metadata": {},
   "source": [
    "## Drop duplicate"
   ]
  },
  {
   "cell_type": "code",
   "execution_count": 10,
   "id": "58cdc468",
   "metadata": {},
   "outputs": [
    {
     "name": "stdout",
     "output_type": "stream",
     "text": [
      "Dropped 52612 duplicate rows.\n",
      "Shape after duplicate removal: (347271, 15)\n"
     ]
    }
   ],
   "source": [
    "initial_rows = df.shape[0]\n",
    "df.drop_duplicates(inplace=True)\n",
    "rows_after_duplicates = df.shape[0]\n",
    "print(f\"Dropped {initial_rows - rows_after_duplicates} duplicate rows.\")\n",
    "print(f\"Shape after duplicate removal: {df.shape}\")"
   ]
  },
  {
   "cell_type": "code",
   "execution_count": 11,
   "id": "14e3903f",
   "metadata": {},
   "outputs": [
    {
     "data": {
      "text/plain": [
       "region          0\n",
       "price           0\n",
       "year            0\n",
       "manufacturer    0\n",
       "model           0\n",
       "condition       0\n",
       "cylinders       0\n",
       "fuel            0\n",
       "odometer        0\n",
       "title_status    0\n",
       "transmission    0\n",
       "drive           0\n",
       "type            0\n",
       "paint_color     0\n",
       "state           0\n",
       "dtype: int64"
      ]
     },
     "execution_count": 11,
     "metadata": {},
     "output_type": "execute_result"
    }
   ],
   "source": [
    "df.isnull().sum().sort_values(ascending=False)\n"
   ]
  },
  {
   "cell_type": "markdown",
   "id": "dc4b63aa",
   "metadata": {},
   "source": [
    "## Cardinality Reduction"
   ]
  },
  {
   "cell_type": "code",
   "execution_count": 12,
   "id": "9cf785f9",
   "metadata": {},
   "outputs": [
    {
     "data": {
      "text/plain": [
       "manufacturer\n",
       "ford               60110\n",
       "chevrolet          46179\n",
       "toyota             29085\n",
       "honda              18093\n",
       "jeep               15922\n",
       "nissan             15806\n",
       "ram                14666\n",
       "gmc                14310\n",
       "bmw                12831\n",
       "dodge              11149\n",
       "mercedes-benz      10100\n",
       "hyundai             8444\n",
       "volkswagen          8298\n",
       "subaru              8197\n",
       "lexus               7152\n",
       "kia                 6974\n",
       "audi                6824\n",
       "cadillac            5920\n",
       "acura               5481\n",
       "chrysler            5105\n",
       "buick               4755\n",
       "mazda               4705\n",
       "infiniti            4325\n",
       "lincoln             3768\n",
       "volvo               2909\n",
       "mitsubishi          2880\n",
       "mini                2091\n",
       "pontiac             2022\n",
       "jaguar              1818\n",
       "rover               1573\n",
       "porsche             1180\n",
       "mercury             1005\n",
       "saturn               932\n",
       "alfa-romeo           860\n",
       "tesla                815\n",
       "fiat                 699\n",
       "harley-davidson      121\n",
       "ferrari               69\n",
       "datsun                61\n",
       "aston-martin          22\n",
       "land rover            15\n",
       "Name: count, dtype: int64"
      ]
     },
     "execution_count": 12,
     "metadata": {},
     "output_type": "execute_result"
    }
   ],
   "source": [
    "df['manufacturer'].value_counts()"
   ]
  },
  {
   "cell_type": "code",
   "execution_count": 13,
   "id": "617ff370",
   "metadata": {},
   "outputs": [
    {
     "data": {
      "text/plain": [
       "region\n",
       "minneapolis / st paul    2812\n",
       "seattle-tacoma           2758\n",
       "portland                 2749\n",
       "sacramento               2725\n",
       "columbus                 2714\n",
       "                         ... \n",
       "meridian                   20\n",
       "southwest MS               13\n",
       "kansas city                 8\n",
       "fort smith, AR              8\n",
       "west virginia (old)         7\n",
       "Name: count, Length: 404, dtype: int64"
      ]
     },
     "execution_count": 13,
     "metadata": {},
     "output_type": "execute_result"
    }
   ],
   "source": [
    "df['region'].value_counts()"
   ]
  },
  {
   "cell_type": "code",
   "execution_count": 14,
   "id": "13e213f2",
   "metadata": {},
   "outputs": [
    {
     "data": {
      "text/plain": [
       "model\n",
       "f-150                6454\n",
       "silverado 1500       4176\n",
       "1500                 3346\n",
       "camry                2510\n",
       "silverado            2502\n",
       "                     ... \n",
       "charger rt awd          1\n",
       "malibu classic ls       1\n",
       "sedona l                1\n",
       "fusco fec72s            1\n",
       "avenger, se             1\n",
       "Name: count, Length: 23539, dtype: int64"
      ]
     },
     "execution_count": 14,
     "metadata": {},
     "output_type": "execute_result"
    }
   ],
   "source": [
    "df['model'].value_counts()"
   ]
  },
  {
   "cell_type": "code",
   "execution_count": 15,
   "id": "ec1a2e01",
   "metadata": {},
   "outputs": [],
   "source": [
    "def reduce_cardinality(df, column, n):\n",
    "    if column not in df.columns:\n",
    "        print(f\"Column {column} not found \")\n",
    "        return df\n",
    "    value_counts = df[column].value_counts()\n",
    "    top_categories = value_counts.nlargest(n).index.tolist()\n",
    "    df[column] = df[column].apply(lambda x: x if x in top_categories else 'others')\n",
    "    return df\n",
    "\n",
    "df = reduce_cardinality(df, 'manufacturer', 30)\n",
    "df = reduce_cardinality(df, 'region', 50)\n",
    "df = reduce_cardinality(df, 'model', 50)"
   ]
  },
  {
   "cell_type": "markdown",
   "id": "d1853a9e",
   "metadata": {},
   "source": [
    "## clean outlier\n"
   ]
  },
  {
   "cell_type": "code",
   "execution_count": 16,
   "id": "c2adfbc3",
   "metadata": {},
   "outputs": [
    {
     "name": "stdout",
     "output_type": "stream",
     "text": [
      "<class 'pandas.core.frame.DataFrame'>\n",
      "Index: 347271 entries, 27 to 426879\n",
      "Data columns (total 15 columns):\n",
      " #   Column        Non-Null Count   Dtype  \n",
      "---  ------        --------------   -----  \n",
      " 0   region        347271 non-null  object \n",
      " 1   price         347271 non-null  int64  \n",
      " 2   year          347271 non-null  float64\n",
      " 3   manufacturer  347271 non-null  object \n",
      " 4   model         347271 non-null  object \n",
      " 5   condition     347271 non-null  object \n",
      " 6   cylinders     347271 non-null  object \n",
      " 7   fuel          347271 non-null  object \n",
      " 8   odometer      347271 non-null  float64\n",
      " 9   title_status  347271 non-null  object \n",
      " 10  transmission  347271 non-null  object \n",
      " 11  drive         347271 non-null  object \n",
      " 12  type          347271 non-null  object \n",
      " 13  paint_color   347271 non-null  object \n",
      " 14  state         347271 non-null  object \n",
      "dtypes: float64(2), int64(1), object(12)\n",
      "memory usage: 42.4+ MB\n"
     ]
    }
   ],
   "source": [
    "df.info()"
   ]
  },
  {
   "cell_type": "code",
   "execution_count": 17,
   "id": "2a7c68b2",
   "metadata": {},
   "outputs": [
    {
     "data": {
      "text/html": [
       "<div>\n",
       "<style scoped>\n",
       "    .dataframe tbody tr th:only-of-type {\n",
       "        vertical-align: middle;\n",
       "    }\n",
       "\n",
       "    .dataframe tbody tr th {\n",
       "        vertical-align: top;\n",
       "    }\n",
       "\n",
       "    .dataframe thead th {\n",
       "        text-align: right;\n",
       "    }\n",
       "</style>\n",
       "<table border=\"1\" class=\"dataframe\">\n",
       "  <thead>\n",
       "    <tr style=\"text-align: right;\">\n",
       "      <th></th>\n",
       "      <th>price</th>\n",
       "      <th>year</th>\n",
       "      <th>odometer</th>\n",
       "    </tr>\n",
       "  </thead>\n",
       "  <tbody>\n",
       "    <tr>\n",
       "      <th>count</th>\n",
       "      <td>3.472710e+05</td>\n",
       "      <td>347271.000000</td>\n",
       "      <td>3.472710e+05</td>\n",
       "    </tr>\n",
       "    <tr>\n",
       "      <th>mean</th>\n",
       "      <td>6.992067e+04</td>\n",
       "      <td>2011.530804</td>\n",
       "      <td>9.495944e+04</td>\n",
       "    </tr>\n",
       "    <tr>\n",
       "      <th>std</th>\n",
       "      <td>1.212638e+07</td>\n",
       "      <td>8.873237</td>\n",
       "      <td>1.847738e+05</td>\n",
       "    </tr>\n",
       "    <tr>\n",
       "      <th>min</th>\n",
       "      <td>0.000000e+00</td>\n",
       "      <td>1900.000000</td>\n",
       "      <td>0.000000e+00</td>\n",
       "    </tr>\n",
       "    <tr>\n",
       "      <th>25%</th>\n",
       "      <td>6.000000e+03</td>\n",
       "      <td>2008.000000</td>\n",
       "      <td>3.598900e+04</td>\n",
       "    </tr>\n",
       "    <tr>\n",
       "      <th>50%</th>\n",
       "      <td>1.459000e+04</td>\n",
       "      <td>2014.000000</td>\n",
       "      <td>8.350000e+04</td>\n",
       "    </tr>\n",
       "    <tr>\n",
       "      <th>75%</th>\n",
       "      <td>2.699000e+04</td>\n",
       "      <td>2017.000000</td>\n",
       "      <td>1.329290e+05</td>\n",
       "    </tr>\n",
       "    <tr>\n",
       "      <th>max</th>\n",
       "      <td>3.736929e+09</td>\n",
       "      <td>2022.000000</td>\n",
       "      <td>1.000000e+07</td>\n",
       "    </tr>\n",
       "  </tbody>\n",
       "</table>\n",
       "</div>"
      ],
      "text/plain": [
       "              price           year      odometer\n",
       "count  3.472710e+05  347271.000000  3.472710e+05\n",
       "mean   6.992067e+04    2011.530804  9.495944e+04\n",
       "std    1.212638e+07       8.873237  1.847738e+05\n",
       "min    0.000000e+00    1900.000000  0.000000e+00\n",
       "25%    6.000000e+03    2008.000000  3.598900e+04\n",
       "50%    1.459000e+04    2014.000000  8.350000e+04\n",
       "75%    2.699000e+04    2017.000000  1.329290e+05\n",
       "max    3.736929e+09    2022.000000  1.000000e+07"
      ]
     },
     "execution_count": 17,
     "metadata": {},
     "output_type": "execute_result"
    }
   ],
   "source": [
    "df[['price', 'year', 'odometer']].describe()"
   ]
  },
  {
   "cell_type": "code",
   "execution_count": 18,
   "id": "e200c134",
   "metadata": {},
   "outputs": [
    {
     "data": {
      "text/plain": [
       "27    2014.0\n",
       "28    2010.0\n",
       "29    2020.0\n",
       "30    2017.0\n",
       "31    2013.0\n",
       "Name: year, dtype: float64"
      ]
     },
     "execution_count": 18,
     "metadata": {},
     "output_type": "execute_result"
    }
   ],
   "source": [
    "df['year'].head(5)"
   ]
  },
  {
   "cell_type": "code",
   "execution_count": 19,
   "id": "4c6f371c",
   "metadata": {},
   "outputs": [],
   "source": [
    "df['price'] = pd.to_numeric(df['price'], errors='coerce')\n",
    "df['year'] = pd.to_numeric(df['year'], errors='coerce')\n",
    "df['odometer'] = pd.to_numeric(df['odometer'], errors='coerce')\n",
    "\n",
    "df.dropna(subset=['price', 'year', 'odometer'], inplace=True)\n",
    "df['year'] = df['year'].astype(int)\n",
    "df['odometer'] = df['odometer'].astype(int)"
   ]
  },
  {
   "cell_type": "code",
   "execution_count": 20,
   "id": "76527000",
   "metadata": {},
   "outputs": [],
   "source": [
    "# Price whisker\n",
    "price_percentile25 = df['price'].quantile(0.25)\n",
    "price_percentile75 = df['price'].quantile(0.75)\n",
    "iqr = price_percentile75 - price_percentile25\n",
    "price_upper_limit = price_percentile75 + 1.5 * iqr\n",
    "price_lower_limit = df['price'].quantile(0.15) # Using 15th percentile as lower bound\n",
    "df_filtered = df[(df['price'] < price_upper_limit) & (df['price'] > price_lower_limit)]"
   ]
  },
  {
   "cell_type": "code",
   "execution_count": 21,
   "id": "9ddc0d4d",
   "metadata": {},
   "outputs": [
    {
     "data": {
      "text/plain": [
       "(289049, 15)"
      ]
     },
     "execution_count": 21,
     "metadata": {},
     "output_type": "execute_result"
    }
   ],
   "source": [
    "df_filtered.shape"
   ]
  },
  {
   "cell_type": "code",
   "execution_count": 22,
   "id": "9a5f2ae4",
   "metadata": {},
   "outputs": [
    {
     "data": {
      "image/png": "[encoded data removed]",
      "text/plain": [
       "<Figure size 1000x500 with 1 Axes>"
      ]
     },
     "metadata": {},
     "output_type": "display_data"
    }
   ],
   "source": [
    "plt.figure(figsize=(10, 5))\n",
    "sns.histplot(df['price'], bins=10, kde=True)\n",
    "plt.title(\"Price Distribution\")\n",
    "plt.xlabel(\"Price (USD)\")\n",
    "plt.ylabel(\"Frequency\")\n",
    "plt.grid(True)\n",
    "plt.show()\n"
   ]
  },
  {
   "cell_type": "code",
   "execution_count": 23,
   "id": "d1c0dacb",
   "metadata": {},
   "outputs": [
    {
     "data": {
      "image/png": "[encoded data removed]",
      "text/plain": [
       "<Figure size 1000x500 with 1 Axes>"
      ]
     },
     "metadata": {},
     "output_type": "display_data"
    }
   ],
   "source": [
    "plt.figure(figsize=(10, 5))\n",
    "sns.histplot(df_filtered['price'], bins=10, kde=True)\n",
    "plt.title(\"Price Distribution\")\n",
    "plt.xlabel(\"Price (USD)\")\n",
    "plt.ylabel(\"Frequency\")\n",
    "plt.grid(True)\n",
    "plt.show()\n"
   ]
  },
  {
   "cell_type": "code",
   "execution_count": 24,
   "id": "cc534e7a",
   "metadata": {},
   "outputs": [],
   "source": [
    "odo_percentile75 = df_filtered['odometer'].quantile(0.75)\n",
    "odo_percentile25 = df_filtered['odometer'].quantile(0.25)\n",
    "odo_iqr = odo_percentile75 - odo_percentile25\n",
    "odo_upper_limit = odo_percentile75 + 1.5 * odo_iqr\n",
    "odo_lower_limit = df_filtered['odometer'].quantile(0.05) # Using 5th percentile as lower bound\n",
    "df_filtered = df_filtered[(df_filtered['odometer'] < odo_upper_limit) & (df_filtered['odometer'] > odo_lower_limit)]"
   ]
  },
  {
   "cell_type": "code",
   "execution_count": 25,
   "id": "8ff24313",
   "metadata": {},
   "outputs": [
    {
     "data": {
      "image/png": "[encoded data removed]",
      "text/plain": [
       "<Figure size 1000x500 with 1 Axes>"
      ]
     },
     "metadata": {},
     "output_type": "display_data"
    }
   ],
   "source": [
    "plt.figure(figsize=(10, 5))\n",
    "sns.histplot(df['odometer'], bins=10, kde=True)\n",
    "plt.title(\"Odometer Distribution before clean\")\n",
    "plt.xlabel(\"Price (USD)\")\n",
    "plt.ylabel(\"Frequency\")\n",
    "plt.grid(True)\n",
    "plt.show()"
   ]
  },
  {
   "cell_type": "code",
   "execution_count": 26,
   "id": "c94f79f9",
   "metadata": {},
   "outputs": [
    {
     "data": {
      "image/png": "[encoded data removed]",
      "text/plain": [
       "<Figure size 1000x500 with 1 Axes>"
      ]
     },
     "metadata": {},
     "output_type": "display_data"
    }
   ],
   "source": [
    "plt.figure(figsize=(10, 5))\n",
    "sns.histplot(df_filtered['odometer'], bins=10, kde=True)\n",
    "plt.title(\"Odometer Distribution After clean\")\n",
    "plt.xlabel(\"Odometer (mile)\")\n",
    "plt.ylabel(\"Frequency\")\n",
    "plt.grid(True)\n",
    "plt.show()"
   ]
  },
  {
   "cell_type": "code",
   "execution_count": 27,
   "id": "0c69b329",
   "metadata": {},
   "outputs": [
    {
     "data": {
      "text/plain": [
       "(272410, 15)"
      ]
     },
     "execution_count": 27,
     "metadata": {},
     "output_type": "execute_result"
    }
   ],
   "source": [
    "df_filtered.shape"
   ]
  },
  {
   "cell_type": "code",
   "execution_count": 28,
   "id": "ef2dbe75",
   "metadata": {},
   "outputs": [
    {
     "data": {
      "text/plain": [
       "<zip at 0x1997c7facc0>"
      ]
     },
     "execution_count": 28,
     "metadata": {},
     "output_type": "execute_result"
    }
   ],
   "source": [
    "year_sort = df_filtered['year'].value_counts().sort_index().items()\n",
    "year_sort"
   ]
  },
  {
   "cell_type": "code",
   "execution_count": 29,
   "id": "f125d7c7",
   "metadata": {},
   "outputs": [
    {
     "name": "stdout",
     "output_type": "stream",
     "text": [
      "1905: 1\n",
      "1915: 1\n",
      "1918: 1\n",
      "1922: 1\n",
      "1923: 5\n",
      "1924: 2\n",
      "1926: 4\n",
      "1927: 5\n",
      "1928: 14\n",
      "1929: 18\n",
      "1930: 20\n",
      "1931: 14\n",
      "1932: 19\n",
      "1933: 5\n",
      "1934: 13\n",
      "1935: 4\n",
      "1936: 16\n",
      "1937: 24\n",
      "1938: 8\n",
      "1939: 12\n",
      "1940: 19\n",
      "1941: 19\n",
      "1942: 3\n",
      "1943: 1\n",
      "1944: 2\n",
      "1946: 21\n",
      "1947: 17\n",
      "1948: 20\n",
      "1949: 21\n",
      "1950: 33\n",
      "1951: 33\n",
      "1952: 28\n",
      "1953: 26\n",
      "1954: 40\n",
      "1955: 65\n",
      "1956: 60\n",
      "1957: 53\n",
      "1958: 31\n",
      "1959: 24\n",
      "1960: 35\n",
      "1961: 31\n",
      "1962: 52\n",
      "1963: 92\n",
      "1964: 147\n",
      "1965: 192\n",
      "1966: 201\n",
      "1967: 144\n",
      "1968: 234\n",
      "1969: 170\n",
      "1970: 147\n",
      "1971: 164\n",
      "1972: 209\n",
      "1973: 173\n",
      "1974: 130\n",
      "1975: 93\n",
      "1976: 100\n",
      "1977: 145\n",
      "1978: 171\n",
      "1979: 206\n",
      "1980: 149\n",
      "1981: 111\n",
      "1982: 121\n",
      "1983: 127\n",
      "1984: 214\n",
      "1985: 282\n",
      "1986: 287\n",
      "1987: 256\n",
      "1988: 307\n",
      "1989: 326\n",
      "1990: 333\n",
      "1991: 338\n",
      "1992: 330\n",
      "1993: 349\n",
      "1994: 478\n",
      "1995: 622\n",
      "1996: 591\n",
      "1997: 720\n",
      "1998: 806\n",
      "1999: 1341\n",
      "2000: 1578\n",
      "2001: 2084\n",
      "2002: 2715\n",
      "2003: 3650\n",
      "2004: 5026\n",
      "2005: 6032\n",
      "2006: 7698\n",
      "2007: 9535\n",
      "2008: 11526\n",
      "2009: 8386\n",
      "2010: 11165\n",
      "2011: 14659\n",
      "2012: 16909\n",
      "2013: 21804\n",
      "2014: 20958\n",
      "2015: 21462\n",
      "2016: 20351\n",
      "2017: 24944\n",
      "2018: 26091\n",
      "2019: 15742\n",
      "2020: 8346\n",
      "2021: 119\n",
      "2022: 3\n"
     ]
    }
   ],
   "source": [
    "for year, count in year_sort:\n",
    "    print(f\"{year}: {count}\")\n"
   ]
  },
  {
   "cell_type": "code",
   "execution_count": 30,
   "id": "7245435c",
   "metadata": {},
   "outputs": [
    {
     "data": {
      "text/plain": [
       "<Axes: title={'center': 'Number of Cars by Year'}, xlabel='year'>"
      ]
     },
     "execution_count": 30,
     "metadata": {},
     "output_type": "execute_result"
    },
    {
     "data": {
      "image/png": "[encoded data removed]",
      "text/plain": [
       "<Figure size 1600x500 with 1 Axes>"
      ]
     },
     "metadata": {},
     "output_type": "display_data"
    }
   ],
   "source": [
    "df_filtered['year'].value_counts().sort_index().plot(kind='bar', figsize=(16,5), title=\"Number of Cars by Year\")\n"
   ]
  },
  {
   "cell_type": "code",
   "execution_count": 31,
   "id": "14c33411",
   "metadata": {},
   "outputs": [
    {
     "name": "stderr",
     "output_type": "stream",
     "text": [
      "C:\\Users\\Worap\\AppData\\Local\\Temp\\ipykernel_3440\\3178783294.py:2: UserWarning: Boolean Series key will be reindexed to match DataFrame index.\n",
      "  df_filtered = df_filtered[(df['year'] >= 1995) & (df['year'] <= 2021)]\n"
     ]
    },
    {
     "data": {
      "text/plain": [
       "(264860, 15)"
      ]
     },
     "execution_count": 31,
     "metadata": {},
     "output_type": "execute_result"
    }
   ],
   "source": [
    "# กรองเฉพาะรถที่ผลิตในช่วงที่มีข้อมูลเยอะและสมเหตุสมผล\n",
    "df_filtered = df_filtered[(df['year'] >= 1995) & (df['year'] <= 2021)]\n",
    "df_filtered.shape"
   ]
  },
  {
   "cell_type": "code",
   "execution_count": 32,
   "id": "21331e31",
   "metadata": {},
   "outputs": [],
   "source": [
    "current_year = pd.Timestamp.now().year\n",
    "df_filtered['car_age'] = current_year - df_filtered['year']\n",
    "df_filtered.drop(['year'], axis=1, inplace=True)"
   ]
  },
  {
   "cell_type": "code",
   "execution_count": 33,
   "id": "81e03288",
   "metadata": {},
   "outputs": [
    {
     "name": "stdout",
     "output_type": "stream",
     "text": [
      "4 : 119\n",
      "5 : 8346\n",
      "6 : 15742\n",
      "7 : 26091\n",
      "8 : 24944\n",
      "9 : 20351\n",
      "10 : 21462\n",
      "11 : 20958\n",
      "12 : 21804\n",
      "13 : 16909\n",
      "14 : 14659\n",
      "15 : 11165\n",
      "16 : 8386\n",
      "17 : 11526\n",
      "18 : 9535\n",
      "19 : 7698\n",
      "20 : 6032\n",
      "21 : 5026\n",
      "22 : 3650\n",
      "23 : 2715\n",
      "24 : 2084\n",
      "25 : 1578\n",
      "26 : 1341\n",
      "27 : 806\n",
      "28 : 720\n",
      "29 : 591\n",
      "30 : 622\n"
     ]
    }
   ],
   "source": [
    "car_ages_show = df_filtered['car_age'].value_counts().sort_index().items()\n",
    "\n",
    "for car, num in car_ages_show:\n",
    "    print(f\"{car} : {num}\")"
   ]
  },
  {
   "cell_type": "markdown",
   "id": "e078193b",
   "metadata": {},
   "source": [
    "## train model\n"
   ]
  },
  {
   "cell_type": "code",
   "execution_count": 34,
   "id": "cf3d1e9e",
   "metadata": {},
   "outputs": [],
   "source": [
    "from sklearn.pipeline import Pipeline\n",
    "from sklearn.ensemble import RandomForestRegressor\n",
    "from sklearn.metrics import mean_squared_error\n",
    "from sklearn.model_selection import train_test_split"
   ]
  },
  {
   "cell_type": "code",
   "execution_count": 35,
   "id": "e3644d73",
   "metadata": {},
   "outputs": [],
   "source": [
    "df_final = df_filtered.copy()"
   ]
  },
  {
   "cell_type": "code",
   "execution_count": 36,
   "id": "9cfd4821",
   "metadata": {},
   "outputs": [
    {
     "name": "stdout",
     "output_type": "stream",
     "text": [
      "<class 'pandas.core.frame.DataFrame'>\n",
      "Index: 264860 entries, 27 to 426879\n",
      "Data columns (total 15 columns):\n",
      " #   Column        Non-Null Count   Dtype \n",
      "---  ------        --------------   ----- \n",
      " 0   region        264860 non-null  object\n",
      " 1   price         264860 non-null  int64 \n",
      " 2   manufacturer  264860 non-null  object\n",
      " 3   model         264860 non-null  object\n",
      " 4   condition     264860 non-null  object\n",
      " 5   cylinders     264860 non-null  object\n",
      " 6   fuel          264860 non-null  object\n",
      " 7   odometer      264860 non-null  int64 \n",
      " 8   title_status  264860 non-null  object\n",
      " 9   transmission  264860 non-null  object\n",
      " 10  drive         264860 non-null  object\n",
      " 11  type          264860 non-null  object\n",
      " 12  paint_color   264860 non-null  object\n",
      " 13  state         264860 non-null  object\n",
      " 14  car_age       264860 non-null  int64 \n",
      "dtypes: int64(3), object(12)\n",
      "memory usage: 32.3+ MB\n"
     ]
    }
   ],
   "source": [
    "df_final.info()"
   ]
  },
  {
   "cell_type": "code",
   "execution_count": 37,
   "id": "2b667776",
   "metadata": {},
   "outputs": [
    {
     "data": {
      "text/plain": [
       "count    264860.000000\n",
       "mean      19494.881704\n",
       "std       12033.338818\n",
       "min        3525.000000\n",
       "25%        8995.000000\n",
       "50%       16990.000000\n",
       "75%       27990.000000\n",
       "max       58448.000000\n",
       "Name: price, dtype: float64"
      ]
     },
     "execution_count": 37,
     "metadata": {},
     "output_type": "execute_result"
    }
   ],
   "source": [
    "df_final['price'].describe()"
   ]
  },
  {
   "cell_type": "code",
   "execution_count": 38,
   "id": "777520db",
   "metadata": {},
   "outputs": [],
   "source": [
    "X = df_final.drop('price', axis=1)\n",
    "y = df_final['price']\n",
    "\n",
    "X_train, X_test, y_train, y_test = train_test_split(\n",
    "    X, y, test_size = 0.3, random_state = 42\n",
    ")\n",
    "\n",
    "# Ordinal column\n",
    "ordinal_col = ['condition']\n",
    "\n",
    "numeric_cols = X.select_dtypes(include='number').columns.tolist()\n",
    "categorical_cols = X.select_dtypes(include='object').columns.tolist()"
   ]
  },
  {
   "cell_type": "markdown",
   "id": "f381934c",
   "metadata": {},
   "source": [
    "## Setting preprocess"
   ]
  },
  {
   "cell_type": "code",
   "execution_count": 39,
   "id": "2d4645ff",
   "metadata": {},
   "outputs": [],
   "source": [
    "from sklearn.pipeline import Pipeline\n",
    "from sklearn.preprocessing import StandardScaler, OrdinalEncoder, OneHotEncoder\n",
    "from sklearn.impute import SimpleImputer\n",
    "from sklearn.compose import ColumnTransformer\n",
    "\n",
    "# --- Numeric Transformer: Scaling only ---\n",
    "numeric_transformer = Pipeline(steps=[\n",
    "    ('scaler', StandardScaler())\n",
    "])\n",
    "\n",
    "# --- Ordinal Transformer: condition column ---\n",
    "# เผื่อกรณีมี \"Unknown\" ตอน fillna\n",
    "condition_order = ['Unknown', 'salvage', 'fair', 'good', 'excellent', 'like new', 'new']\n",
    "train_conditions = X_train['condition'].unique()\n",
    "final_condition_order = [c for c in condition_order if c in train_conditions]\n",
    "\n",
    "ordinal_transformer = Pipeline(steps=[\n",
    "    ('imputer', SimpleImputer(strategy='constant', fill_value='Unknown')),\n",
    "    ('ordinal', OrdinalEncoder(categories=[final_condition_order],\n",
    "                               handle_unknown='use_encoded_value',\n",
    "                               unknown_value=-1))\n",
    "])\n",
    "\n",
    "# --- Categorical Transformer: Other object columns ---\n",
    "categorical_transformer = Pipeline(steps=[\n",
    "    ('imputer', SimpleImputer(strategy='constant', fill_value='Unknown')),\n",
    "    ('onehot', OneHotEncoder(handle_unknown='ignore', sparse_output=False))\n",
    "])\n",
    "\n",
    "# --- Combine into ColumnTransformer ---\n",
    "transformers_list = []\n",
    "if numeric_cols:\n",
    "    transformers_list.append(('num', numeric_transformer, numeric_cols))\n",
    "if ordinal_col:\n",
    "    transformers_list.append(('ord', ordinal_transformer, ordinal_col))\n",
    "if categorical_cols:\n",
    "    transformers_list.append(('cat', categorical_transformer, categorical_cols))\n",
    "\n",
    "if not transformers_list:\n",
    "    raise ValueError(\"No features selected for preprocessing.\")\n",
    "\n",
    "preprocessor = ColumnTransformer(\n",
    "    transformers=transformers_list,\n",
    "    remainder='drop'  # Drop anything not listed above\n",
    ")\n",
    "\n"
   ]
  },
  {
   "cell_type": "code",
   "execution_count": 43,
   "id": "87ac49e6",
   "metadata": {},
   "outputs": [
    {
     "data": {
      "text/plain": [
       "[('num',\n",
       "  Pipeline(steps=[('scaler', StandardScaler())]),\n",
       "  ['odometer', 'car_age']),\n",
       " ('ord',\n",
       "  Pipeline(steps=[('imputer',\n",
       "                   SimpleImputer(fill_value='Unknown', strategy='constant')),\n",
       "                  ('ordinal',\n",
       "                   OrdinalEncoder(categories=[['salvage', 'fair', 'good',\n",
       "                                               'excellent', 'like new', 'new']],\n",
       "                                  handle_unknown='use_encoded_value',\n",
       "                                  unknown_value=-1))]),\n",
       "  ['condition']),\n",
       " ('cat',\n",
       "  Pipeline(steps=[('imputer',\n",
       "                   SimpleImputer(fill_value='Unknown', strategy='constant')),\n",
       "                  ('onehot',\n",
       "                   OneHotEncoder(handle_unknown='ignore', sparse_output=False))]),\n",
       "  ['region',\n",
       "   'manufacturer',\n",
       "   'model',\n",
       "   'condition',\n",
       "   'cylinders',\n",
       "   'fuel',\n",
       "   'title_status',\n",
       "   'transmission',\n",
       "   'drive',\n",
       "   'type',\n",
       "   'paint_color',\n",
       "   'state'])]"
      ]
     },
     "execution_count": 43,
     "metadata": {},
     "output_type": "execute_result"
    }
   ],
   "source": [
    "transformers_list"
   ]
  },
  {
   "cell_type": "code",
   "execution_count": 40,
   "id": "08e9248c",
   "metadata": {},
   "outputs": [
    {
     "name": "stdout",
     "output_type": "stream",
     "text": [
      "Preprocessing completed in 1.96 seconds.\n",
      "X_train_processed shape: (185402, 251)\n",
      "X_test_processed shape: (79458, 251)\n",
      "Feature names extracted from pipeline.\n"
     ]
    }
   ],
   "source": [
    "import time\n",
    "\n",
    "# เริ่มจับเวลา\n",
    "start_time = time.time()\n",
    "\n",
    "# Fit pipeline ด้วย X_train (เรียนรู้ mean/scale/category จาก train เท่านั้น)\n",
    "preprocessor.fit(X_train, y_train)\n",
    "\n",
    "# Transform ข้อมูล train/test ด้วย pipeline ที่ fit แล้ว\n",
    "X_train_processed = preprocessor.transform(X_train)\n",
    "X_test_processed = preprocessor.transform(X_test)\n",
    "\n",
    "# แสดงเวลา preprocessing\n",
    "preprocess_time = time.time() - start_time\n",
    "print(f\"Preprocessing completed in {preprocess_time:.2f} seconds.\")\n",
    "print(f\"X_train_processed shape: {X_train_processed.shape}\")\n",
    "print(f\"X_test_processed shape: {X_test_processed.shape}\")\n",
    "\n",
    "# พยายามดึงชื่อฟีเจอร์ใหม่ที่ถูกสร้างจาก pipeline (เช่น ชื่อหลัง OneHotEncoder)\n",
    "try:\n",
    "    feature_names_out = preprocessor.get_feature_names_out()\n",
    "    print(\"Feature names extracted from pipeline.\")\n",
    "except Exception as e:\n",
    "    print(f\"Warning: Could not get detailed feature names: {e}\")\n",
    "    num_output_features = X_train_processed.shape[1]\n",
    "    feature_names_out = [f'feature_{i}' for i in range(num_output_features)]\n"
   ]
  },
  {
   "cell_type": "code",
   "execution_count": 41,
   "id": "7600d403",
   "metadata": {},
   "outputs": [
    {
     "name": "stdout",
     "output_type": "stream",
     "text": [
      "RMSE: 3545.96\n",
      "R²: 0.91\n"
     ]
    }
   ],
   "source": [
    "import numpy as np\n",
    "from sklearn.ensemble import RandomForestRegressor\n",
    "from sklearn.metrics import mean_squared_error, r2_score\n",
    "import joblib\n",
    "\n",
    "# Load data\n",
    "data = np.load('../airflow/data/preprocessed_data.npz', allow_pickle=True)\n",
    "\n",
    "X_train = data['X_train']\n",
    "X_test = data['X_test']\n",
    "y_train = data['y_train']\n",
    "y_test = data['y_test']\n",
    "\n",
    "# (Optional) log-transform ถ้าข้อมูล skew\n",
    "y_train_log = np.log1p(y_train)\n",
    "\n",
    "# Train\n",
    "model = RandomForestRegressor(n_estimators=100, random_state=42, n_jobs=-1)\n",
    "model.fit(X_train, y_train_log)\n",
    "\n",
    "# Predict บน test set → log back\n",
    "y_pred_log = model.predict(X_test)\n",
    "y_pred = np.expm1(y_pred_log)\n",
    "\n",
    "# Evaluate\n",
    "rmse = np.sqrt(mean_squared_error(y_test, y_pred))\n",
    "r2 = r2_score(y_test, y_pred)\n",
    "\n",
    "print(f\"RMSE: {rmse:.2f}\")\n",
    "print(f\"R²: {r2:.2f}\")\n"
   ]
  }
 ],
 "metadata": {
  "kernelspec": {
   "display_name": "Python 3",
   "language": "python",
   "name": "python3"
  },
  "language_info": {
   "codemirror_mode": {
    "name": "ipython",
    "version": 3
   },
   "file_extension": ".py",
   "mimetype": "text/x-python",
   "name": "python",
   "nbconvert_exporter": "python",
   "pygments_lexer": "ipython3",
   "version": "3.11.9"
  }
 },
 "nbformat": 4,
 "nbformat_minor": 5
}
