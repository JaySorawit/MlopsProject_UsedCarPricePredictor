{
 "cells": [
  {
   "cell_type": "code",
   "execution_count": 26,
   "id": "e9657c75",
   "metadata": {},
   "outputs": [],
   "source": [
    "# --- Import ---\n",
    "from sklearn.ensemble import RandomForestRegressor\n",
    "import mlflow\n",
    "import mlflow.sklearn\n",
    "import numpy as np\n",
    "import pandas as pd\n",
    "import matplotlib.pyplot as plt\n",
    "from sklearn.model_selection import GridSearchCV\n",
    "from sklearn.metrics import mean_squared_error, r2_score, make_scorer\n",
    "\n",
    "# --- Set experiment ---\n",
    "mlflow.set_tracking_uri(\"http://localhost:5000\")\n",
    "mlflow.set_experiment(\"used-car-price-prediction\")\n",
    "\n",
    "# --- Utility function ---\n",
    "def rmse_score(y_true, y_pred):\n",
    "    return np.sqrt(mean_squared_error(y_true, y_pred))\n",
    "\n",
    "def train_and_register_model(model, param_grid, model_name, registered_name, data_path):\n",
    "    # Load data\n",
    "    data = np.load(data_path, allow_pickle=True)\n",
    "    X_train = data['X_train']\n",
    "    X_test = data['X_test']\n",
    "    y_train = data['y_train']\n",
    "    y_test = data['y_test']\n",
    "    feature_names = data['feature_names']\n",
    "\n",
    "    # MLflow run\n",
    "    with mlflow.start_run(run_name=model_name) as run:\n",
    "        scorer = make_scorer(rmse_score, greater_is_better=False)\n",
    "        grid = GridSearchCV(model, param_grid, scoring=scorer, cv=5, n_jobs=-1)\n",
    "        grid.fit(X_train, y_train)\n",
    "\n",
    "        best_model = grid.best_estimator_\n",
    "        y_pred = best_model.predict(X_test)\n",
    "\n",
    "        rmse = rmse_score(y_test, y_pred)\n",
    "        r2 = r2_score(y_test, y_pred)\n",
    "\n",
    "        mlflow.log_params(grid.best_params_)\n",
    "        mlflow.log_metrics({\"rmse\": rmse, \"r2\": r2})\n",
    "        mlflow.set_tag(\"model_name\", model_name)\n",
    "\n",
    "        # Log model\n",
    "        mlflow.sklearn.log_model(best_model, artifact_path=\"model\")\n",
    "        model_uri = f\"runs:/{run.info.run_id}/model\"\n",
    "        mlflow.register_model(model_uri=model_uri, name=registered_name)\n",
    "\n",
    "        # Log feature importance\n",
    "        if hasattr(best_model, \"feature_importances_\"):\n",
    "            fi = pd.DataFrame({\n",
    "                \"feature\": feature_names,\n",
    "                \"importance\": best_model.feature_importances_\n",
    "            }).sort_values(\"importance\", ascending=False)\n",
    "\n",
    "            plt.figure(figsize=(10, 5))\n",
    "            plt.bar(fi[\"feature\"][:10], fi[\"importance\"][:10])\n",
    "            plt.xticks(rotation=45)\n",
    "            plt.tight_layout()\n",
    "            plt.savefig(\"feature_importance.png\")\n",
    "            mlflow.log_artifact(\"feature_importance.png\")\n",
    "            plt.close()\n",
    "\n",
    "        print(f\"🏆 Registered: {registered_name} | RMSE: {rmse:.2f}\")\n",
    "        print(f\"🔗 View run at: http://localhost:5000/#/experiments/{run.info.experiment_id}/runs/{run.info.run_id}\")\n"
   ]
  },
  {
   "cell_type": "code",
   "execution_count": 27,
   "id": "b4ea3cc6",
   "metadata": {},
   "outputs": [
    {
     "name": "stderr",
     "output_type": "stream",
     "text": [
      "2025/05/28 23:36:29 WARNING mlflow.models.model: Model logged without a signature and input example. Please set `input_example` parameter when logging the model to auto infer the model signature.\n",
      "Successfully registered model 'used-car-random-forest'.\n",
      "2025/05/28 23:36:44 INFO mlflow.store.model_registry.abstract_store: Waiting up to 300 seconds for model version to finish creation. Model name: used-car-random-forest, version 1\n",
      "Created version '1' of model 'used-car-random-forest'.\n"
     ]
    },
    {
     "name": "stdout",
     "output_type": "stream",
     "text": [
      "🏆 Registered: used-car-random-forest | RMSE: 3478.88\n",
      "🔗 View run at: http://localhost:5000/#/experiments/3/runs/5aba8fa12bf242beb63261b1fb8fb77f\n",
      "🏃 View run random_forest at: http://localhost:5000/#/experiments/3/runs/5aba8fa12bf242beb63261b1fb8fb77f\n",
      "🧪 View experiment at: http://localhost:5000/#/experiments/3\n"
     ]
    }
   ],
   "source": [
    "# --- Set up and call ---\n",
    "param_grid = {\"n_estimators\": [50, 100], \"max_depth\": [None, 10]}\n",
    "model = RandomForestRegressor()\n",
    "\n",
    "train_and_register_model(\n",
    "    model=model,\n",
    "    param_grid=param_grid,\n",
    "    model_name=\"random_forest\",\n",
    "    registered_name=\"used-car-random-forest\",\n",
    "    data_path=\"../airflow/data/preprocessed_data.npz\")\n"
   ]
  },
  {
   "cell_type": "code",
   "execution_count": 28,
   "id": "d30f3903",
   "metadata": {},
   "outputs": [
    {
     "name": "stderr",
     "output_type": "stream",
     "text": [
      "2025/05/28 23:37:15 WARNING mlflow.models.model: Model logged without a signature and input example. Please set `input_example` parameter when logging the model to auto infer the model signature.\n",
      "Successfully registered model 'used-car-xgboost'.\n",
      "2025/05/28 23:37:16 INFO mlflow.store.model_registry.abstract_store: Waiting up to 300 seconds for model version to finish creation. Model name: used-car-xgboost, version 1\n",
      "Created version '1' of model 'used-car-xgboost'.\n"
     ]
    },
    {
     "name": "stdout",
     "output_type": "stream",
     "text": [
      "🏆 Registered: used-car-xgboost | RMSE: 4666.20\n",
      "🔗 View run at: http://localhost:5000/#/experiments/3/runs/0b882e804d5b4e4b92c78b587115dd58\n",
      "🏃 View run xgboost at: http://localhost:5000/#/experiments/3/runs/0b882e804d5b4e4b92c78b587115dd58\n",
      "🧪 View experiment at: http://localhost:5000/#/experiments/3\n"
     ]
    }
   ],
   "source": [
    "from xgboost import XGBRegressor\n",
    "\n",
    "param_grid = {\n",
    "    \"n_estimators\": [50, 100],\n",
    "    \"max_depth\": [3, 5]\n",
    "}\n",
    "model = XGBRegressor()\n",
    "\n",
    "train_and_register_model(\n",
    "    model=model,\n",
    "    param_grid=param_grid,\n",
    "    model_name=\"xgboost\",\n",
    "    registered_name=\"used-car-xgboost\",\n",
    "    data_path=\"../airflow/data/preprocessed_data.npz\"\n",
    ")\n"
   ]
  },
  {
   "cell_type": "code",
   "execution_count": 29,
   "id": "82e62f5b",
   "metadata": {},
   "outputs": [
    {
     "name": "stdout",
     "output_type": "stream",
     "text": [
      "[LightGBM] [Info] Auto-choosing row-wise multi-threading, the overhead of testing was 0.014983 seconds.\n",
      "You can set `force_row_wise=true` to remove the overhead.\n",
      "And if memory is not enough, you can set `force_col_wise=true`.\n",
      "[LightGBM] [Info] Total Bins 770\n",
      "[LightGBM] [Info] Number of data points in the train set: 185402, number of used features: 243\n",
      "[LightGBM] [Info] Start training from score 19459.428458\n"
     ]
    },
    {
     "name": "stderr",
     "output_type": "stream",
     "text": [
      "c:\\Users\\User\\Documents\\GitHub\\MlopsProject_UsedCarPricePredictor\\venv\\Lib\\site-packages\\sklearn\\utils\\validation.py:2739: UserWarning: X does not have valid feature names, but LGBMRegressor was fitted with feature names\n",
      "  warnings.warn(\n",
      "2025/05/28 23:42:30 WARNING mlflow.models.model: Model logged without a signature and input example. Please set `input_example` parameter when logging the model to auto infer the model signature.\n",
      "Successfully registered model 'used-car-lightgbm'.\n",
      "2025/05/28 23:42:31 INFO mlflow.store.model_registry.abstract_store: Waiting up to 300 seconds for model version to finish creation. Model name: used-car-lightgbm, version 1\n",
      "Created version '1' of model 'used-car-lightgbm'.\n"
     ]
    },
    {
     "name": "stdout",
     "output_type": "stream",
     "text": [
      "🏆 Registered: used-car-lightgbm | RMSE: 4493.01\n",
      "🔗 View run at: http://localhost:5000/#/experiments/3/runs/4574b73998e74c8392662d7319db7a9d\n",
      "🏃 View run lightgbm at: http://localhost:5000/#/experiments/3/runs/4574b73998e74c8392662d7319db7a9d\n",
      "🧪 View experiment at: http://localhost:5000/#/experiments/3\n"
     ]
    }
   ],
   "source": [
    "from lightgbm import LGBMRegressor\n",
    "\n",
    "param_grid = {\n",
    "    \"n_estimators\": [50, 100],\n",
    "    \"num_leaves\": [31, 50]\n",
    "}\n",
    "model = LGBMRegressor()\n",
    "\n",
    "train_and_register_model(\n",
    "    model=model,\n",
    "    param_grid=param_grid,\n",
    "    model_name=\"lightgbm\",\n",
    "    registered_name=\"used-car-lightgbm\",\n",
    "    data_path=\"../airflow/data/preprocessed_data.npz\"\n",
    ")\n"
   ]
  },
  {
   "cell_type": "code",
   "execution_count": 30,
   "id": "3b011cd7",
   "metadata": {},
   "outputs": [],
   "source": [
    "from mlflow.tracking import MlflowClient\n",
    "\n",
    "def register_and_promote_model(run_id, model_name, stage=\"Production\"):\n",
    "    # Register\n",
    "    model_uri = f\"runs:/{run_id}/model\"\n",
    "    result = mlflow.register_model(model_uri=model_uri, name=model_name)\n",
    "\n",
    "    print(\"⚠️ WARNING mlflow.models.model: Model logged without a signature and input example.\")\n",
    "    print(\"✅ Please set `input_example` parameter when logging the model to auto infer the model signature.\")\n",
    "\n",
    "    print(f\"Successfully registered model '{model_name}'.\")\n",
    "    print(f\"🕒 Waiting for model version creation...\")\n",
    "\n",
    "    client = MlflowClient()\n",
    "    client.transition_model_version_stage(\n",
    "        name=model_name,\n",
    "        version=result.version,\n",
    "        stage=stage\n",
    "    )\n",
    "\n",
    "    print(f\"Created version '{result.version}' of model '{model_name}'.\")\n",
    "    print(f\"🏆 Registered: {model_name} | version: {result.version}\")\n",
    "    print(f\"🔗 View run at: http://localhost:5000/#/experiments/{result.run_id}/runs/{result.run_id}\")\n",
    "    print(f\"🏃 View run {model_name} at: http://localhost:5000/#/experiments/{result.run_id}/runs/{result.run_id}\")\n",
    "    print(f\"🧪 View experiment at: http://localhost:5000/#/experiments/{mlflow.get_experiment_by_name('used-car-price-prediction').experiment_id}\")\n"
   ]
  },
  {
   "cell_type": "code",
   "execution_count": 31,
   "id": "7d452ba7",
   "metadata": {},
   "outputs": [
    {
     "name": "stderr",
     "output_type": "stream",
     "text": [
      "Registered model 'used-car-random-forest' already exists. Creating a new version of this model...\n",
      "2025/05/28 23:47:30 INFO mlflow.store.model_registry.abstract_store: Waiting up to 300 seconds for model version to finish creation. Model name: used-car-random-forest, version 2\n"
     ]
    },
    {
     "name": "stdout",
     "output_type": "stream",
     "text": [
      "⚠️ WARNING mlflow.models.model: Model logged without a signature and input example.\n",
      "✅ Please set `input_example` parameter when logging the model to auto infer the model signature.\n",
      "Successfully registered model 'used-car-random-forest'.\n",
      "🕒 Waiting for model version creation...\n",
      "Created version '2' of model 'used-car-random-forest'.\n",
      "🏆 Registered: used-car-random-forest | version: 2\n",
      "🔗 View run at: http://localhost:5000/#/experiments/5aba8fa12bf242beb63261b1fb8fb77f/runs/5aba8fa12bf242beb63261b1fb8fb77f\n",
      "🏃 View run used-car-random-forest at: http://localhost:5000/#/experiments/5aba8fa12bf242beb63261b1fb8fb77f/runs/5aba8fa12bf242beb63261b1fb8fb77f\n",
      "🧪 View experiment at: http://localhost:5000/#/experiments/3\n"
     ]
    },
    {
     "name": "stderr",
     "output_type": "stream",
     "text": [
      "Created version '2' of model 'used-car-random-forest'.\n",
      "C:\\Users\\User\\AppData\\Local\\Temp\\ipykernel_33348\\1383443687.py:15: FutureWarning: ``mlflow.tracking.client.MlflowClient.transition_model_version_stage`` is deprecated since 2.9.0. Model registry stages will be removed in a future major release. To learn more about the deprecation of model registry stages, see our migration guide here: https://mlflow.org/docs/latest/model-registry.html#migrating-from-stages\n",
      "  client.transition_model_version_stage(\n"
     ]
    }
   ],
   "source": [
    "register_and_promote_model(\n",
    "    run_id=\"5aba8fa12bf242beb63261b1fb8fb77f\",\n",
    "    model_name=\"used-car-random-forest\",\n",
    "    stage=\"Production\"\n",
    ")\n"
   ]
  },
  {
   "cell_type": "code",
   "execution_count": 32,
   "id": "a1243e59",
   "metadata": {},
   "outputs": [
    {
     "name": "stderr",
     "output_type": "stream",
     "text": [
      "Registered model 'used-car-lightgbm' already exists. Creating a new version of this model...\n",
      "2025/05/28 23:52:52 INFO mlflow.store.model_registry.abstract_store: Waiting up to 300 seconds for model version to finish creation. Model name: used-car-lightgbm, version 2\n"
     ]
    },
    {
     "name": "stdout",
     "output_type": "stream",
     "text": [
      "⚠️ WARNING mlflow.models.model: Model logged without a signature and input example.\n",
      "✅ Please set `input_example` parameter when logging the model to auto infer the model signature.\n",
      "Successfully registered model 'used-car-lightgbm'.\n",
      "🕒 Waiting for model version creation...\n",
      "Created version '2' of model 'used-car-lightgbm'.\n",
      "🏆 Registered: used-car-lightgbm | version: 2\n",
      "🔗 View run at: http://localhost:5000/#/experiments/4574b73998e74c8392662d7319db7a9d/runs/4574b73998e74c8392662d7319db7a9d\n",
      "🏃 View run used-car-lightgbm at: http://localhost:5000/#/experiments/4574b73998e74c8392662d7319db7a9d/runs/4574b73998e74c8392662d7319db7a9d\n",
      "🧪 View experiment at: http://localhost:5000/#/experiments/3\n"
     ]
    },
    {
     "name": "stderr",
     "output_type": "stream",
     "text": [
      "Created version '2' of model 'used-car-lightgbm'.\n",
      "C:\\Users\\User\\AppData\\Local\\Temp\\ipykernel_33348\\1383443687.py:15: FutureWarning: ``mlflow.tracking.client.MlflowClient.transition_model_version_stage`` is deprecated since 2.9.0. Model registry stages will be removed in a future major release. To learn more about the deprecation of model registry stages, see our migration guide here: https://mlflow.org/docs/latest/model-registry.html#migrating-from-stages\n",
      "  client.transition_model_version_stage(\n"
     ]
    }
   ],
   "source": [
    "register_and_promote_model(\n",
    "    run_id=\"4574b73998e74c8392662d7319db7a9d\",\n",
    "    model_name=\"used-car-lightgbm\",\n",
    "    stage=\"Staging\"\n",
    ")\n"
   ]
  }
 ],
 "metadata": {
  "kernelspec": {
   "display_name": "venv",
   "language": "python",
   "name": "python3"
  },
  "language_info": {
   "codemirror_mode": {
    "name": "ipython",
    "version": 3
   },
   "file_extension": ".py",
   "mimetype": "text/x-python",
   "name": "python",
   "nbconvert_exporter": "python",
   "pygments_lexer": "ipython3",
   "version": "3.12.0"
  }
 },
 "nbformat": 4,
 "nbformat_minor": 5
}
